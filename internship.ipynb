{
 "cells": [
  {
   "cell_type": "code",
   "execution_count": 2,
   "metadata": {},
   "outputs": [
    {
     "name": "stdout",
     "output_type": "stream",
     "text": [
      "15\n"
     ]
    }
   ],
   "source": [
    "# sum of all items in a list\n",
    "l=[1,2,3,4,5]\n",
    "sum=0\n",
    "for i in range (1,6):\n",
    "    sum=sum+i\n",
    "print(sum)"
   ]
  },
  {
   "cell_type": "code",
   "execution_count": 36,
   "metadata": {},
   "outputs": [
    {
     "name": "stdout",
     "output_type": "stream",
     "text": [
      "largest element is: 54\n"
     ]
    }
   ],
   "source": [
    "# largest number from a list\n",
    "l=[12,52,1,54,5,48]\n",
    "large=1\n",
    "for i in l:\n",
    "    if i> large:\n",
    "        large=i\n",
    "print('largest element is:',large)        \n",
    "       \n",
    "       \n",
    "\n",
    "\n"
   ]
  },
  {
   "cell_type": "code",
   "execution_count": 15,
   "metadata": {},
   "outputs": [
    {
     "name": "stdout",
     "output_type": "stream",
     "text": [
      "Largest element is: 9\n"
     ]
    }
   ],
   "source": [
    "#another method\n",
    "l=[4,5,8,9,5,4,3,2]\n",
    "l.sort()\n",
    "print(\"Largest element is:\", l[-1])\n"
   ]
  },
  {
   "cell_type": "code",
   "execution_count": 29,
   "metadata": {},
   "outputs": [
    {
     "name": "stdout",
     "output_type": "stream",
     "text": [
      "The smallest  element is: 3\n"
     ]
    }
   ],
   "source": [
    "#second smallest number from a list\n",
    "l=[4,5,8,9,5,4,3,2]\n",
    "l.sort()\n",
    "print(\"The smallest  element is:\", l[1])\n"
   ]
  },
  {
   "cell_type": "code",
   "execution_count": 1,
   "metadata": {},
   "outputs": [
    {
     "name": "stdout",
     "output_type": "stream",
     "text": [
      "the elements which are divisible by seven are: 7\n",
      "the elements which are divisible by seven are: 14\n",
      "the elements which are divisible by seven are: 21\n",
      "the elements which are divisible by seven are: 28\n",
      "the elements which are divisible by seven are: 35\n",
      "the elements which are divisible by seven are: 42\n",
      "the elements which are divisible by seven are: 49\n",
      "the elements which are divisible by seven are: 56\n",
      "the elements which are divisible by seven are: 63\n",
      "the elements which are divisible by seven are: 70\n",
      "the elements which are divisible by seven are: 77\n",
      "the elements which are divisible by seven are: 84\n",
      "the elements which are divisible by seven are: 91\n",
      "the elements which are divisible by seven are: 98\n"
     ]
    }
   ],
   "source": [
    "# divisible by 7 and multiple of 5\n",
    "\n",
    "for i in range(1,101):\n",
    "    s=i\n",
    "    if i%7==0:\n",
    "        i=s\n",
    "        print('the elements which are divisible by seven are:',s) \n",
    "\n",
    "       \n",
    "\n"
   ]
  },
  {
   "cell_type": "code",
   "execution_count": 7,
   "metadata": {},
   "outputs": [
    {
     "name": "stdout",
     "output_type": "stream",
     "text": [
      "the elements which are multiple of five are: 5\n",
      "the elements which are multiple of five are: 10\n",
      "the elements which are multiple of five are: 15\n",
      "the elements which are multiple of five are: 20\n",
      "the elements which are multiple of five are: 25\n",
      "the elements which are multiple of five are: 30\n",
      "the elements which are multiple of five are: 35\n",
      "the elements which are multiple of five are: 40\n",
      "the elements which are multiple of five are: 45\n",
      "the elements which are multiple of five are: 50\n",
      "the elements which are multiple of five are: 55\n",
      "the elements which are multiple of five are: 60\n",
      "the elements which are multiple of five are: 65\n",
      "the elements which are multiple of five are: 70\n",
      "the elements which are multiple of five are: 75\n",
      "the elements which are multiple of five are: 80\n",
      "the elements which are multiple of five are: 85\n",
      "the elements which are multiple of five are: 90\n",
      "the elements which are multiple of five are: 95\n",
      "the elements which are multiple of five are: 100\n"
     ]
    }
   ],
   "source": [
    "for i in range(1,101):\n",
    "    f=i\n",
    "    if i%5==0:\n",
    "        i=f\n",
    "        print('the elements which are multiple of five are:',f) \n"
   ]
  },
  {
   "cell_type": "code",
   "execution_count": 11,
   "metadata": {},
   "outputs": [
    {
     "name": "stdout",
     "output_type": "stream",
     "text": [
      "10\n"
     ]
    }
   ],
   "source": [
    "#sum of all numbers from 1 to a given number.\n",
    "limit=int(input('enter the limit'))\n",
    "sum=0\n",
    "for i in range (1,limit+1):\n",
    "    sum=sum+i\n",
    "print(sum)"
   ]
  },
  {
   "cell_type": "code",
   "execution_count": 13,
   "metadata": {},
   "outputs": [
    {
     "name": "stdout",
     "output_type": "stream",
     "text": [
      "-10\n",
      "-9\n",
      "-8\n",
      "-7\n",
      "-6\n",
      "-5\n",
      "-4\n",
      "-3\n",
      "-2\n",
      "-1\n"
     ]
    }
   ],
   "source": [
    "#Display numbers from -10 to -1 using for loop.\n",
    "for i in range (-10,0):\n",
    "    print(i)"
   ]
  },
  {
   "cell_type": "code",
   "execution_count": 25,
   "metadata": {},
   "outputs": [
    {
     "name": "stdout",
     "output_type": "stream",
     "text": [
      "23\n",
      "29\n",
      "31\n",
      "37\n",
      "41\n",
      "43\n",
      "47\n",
      "53\n",
      "59\n",
      "61\n",
      "67\n",
      "71\n",
      "73\n",
      "79\n"
     ]
    }
   ],
   "source": [
    "#Write a program to display all prime numbers within a range(20,80)\n",
    "p=2\n",
    "for i in range (20,81):\n",
    "     if i%2!=0 and i%3!=0 and i%5!=0 and i%7!=0:\n",
    "            p=i\n",
    "            print(p)"
   ]
  },
  {
   "cell_type": "code",
   "execution_count": 29,
   "metadata": {},
   "outputs": [
    {
     "name": "stdout",
     "output_type": "stream",
     "text": [
      "1\n",
      "8\n",
      "27\n",
      "64\n",
      "125\n",
      "216\n",
      "343\n",
      "512\n",
      "729\n",
      "1000\n"
     ]
    }
   ],
   "source": [
    "#Calculate the cube of all numbers from 1 to a given number\n",
    "limit=int(input('enter the limit'))\n",
    "\n",
    "for i in range(1,limit+1):\n",
    "    c=i**3\n",
    "    print(c)\n"
   ]
  },
  {
   "cell_type": "code",
   "execution_count": 36,
   "metadata": {},
   "outputs": [
    {
     "name": "stdout",
     "output_type": "stream",
     "text": [
      "5\n"
     ]
    }
   ],
   "source": [
    "#Calculate the Length of a String Without using length Functions\n",
    "l='Hello'\n",
    "count=0\n",
    "for i in l:\n",
    "    count=count+1\n",
    "    \n",
    "print(count)"
   ]
  },
  {
   "cell_type": "code",
   "execution_count": 58,
   "metadata": {},
   "outputs": [
    {
     "name": "stdout",
     "output_type": "stream",
     "text": [
      "No of words in the sentance is: 3\n",
      "No of character in the sentance is: 13\n"
     ]
    }
   ],
   "source": [
    "#Count the Number of Words and Characters in a String\n",
    "s=(input('Enter the sentance'))\n",
    "word=1\n",
    "char=0\n",
    "for i in s :\n",
    "    char=char+1\n",
    "    if i==' ':\n",
    "      word=word+1\n",
    "print('No of words in the sentance is:',word)\n",
    "print('No of character in the sentance is:',char)"
   ]
  },
  {
   "cell_type": "code",
   "execution_count": 75,
   "metadata": {},
   "outputs": [
    {
     "data": {
      "text/plain": [
       "'Hello-how-are-you'"
      ]
     },
     "execution_count": 75,
     "metadata": {},
     "output_type": "execute_result"
    }
   ],
   "source": [
    "#Replace Every Blank Space with Hyphen in a String\n",
    "s='Hello how are you'\n",
    "s.replace(' ','-')"
   ]
  },
  {
   "cell_type": "code",
   "execution_count": 84,
   "metadata": {},
   "outputs": [
    {
     "name": "stdout",
     "output_type": "stream",
     "text": [
      "6\n"
     ]
    }
   ],
   "source": [
    "# Count Number of Lowercase Characters in a String\n",
    "s=input('enter the sentance')\n",
    "\n",
    "count=0\n",
    "for i in s:\n",
    "\n",
    "    if i.islower():\n",
    "        \n",
    "      count=count+1\n",
    "        \n",
    "        \n",
    "print(count)"
   ]
  },
  {
   "cell_type": "code",
   "execution_count": 89,
   "metadata": {},
   "outputs": [
    {
     "name": "stdout",
     "output_type": "stream",
     "text": [
      "3\n"
     ]
    }
   ],
   "source": [
    "#Count the Number of Vowels in a String\n",
    "s=input('Enter the sentance')\n",
    "count=0\n",
    "for i in s:\n",
    "    if i==('a'):\n",
    "        count=count+1\n",
    "    elif i=='e':\n",
    "        count=count+1\n",
    "    elif i=='i':\n",
    "        count=count+1\n",
    "    elif i=='o':\n",
    "        count=count+1\n",
    "    elif i=='u':\n",
    "         count=count+1\n",
    "print(count)\n",
    "\n"
   ]
  },
  {
   "cell_type": "code",
   "execution_count": null,
   "metadata": {},
   "outputs": [],
   "source": []
  },
  {
   "cell_type": "code",
   "execution_count": null,
   "metadata": {},
   "outputs": [],
   "source": []
  }
 ],
 "metadata": {
  "kernelspec": {
   "display_name": "Python 3",
   "language": "python",
   "name": "python3"
  },
  "language_info": {
   "codemirror_mode": {
    "name": "ipython",
    "version": 3
   },
   "file_extension": ".py",
   "mimetype": "text/x-python",
   "name": "python",
   "nbconvert_exporter": "python",
   "pygments_lexer": "ipython3",
   "version": "3.11.9"
  }
 },
 "nbformat": 4,
 "nbformat_minor": 2
}
